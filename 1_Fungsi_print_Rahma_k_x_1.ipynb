{
  "nbformat": 4,
  "nbformat_minor": 0,
  "metadata": {
    "colab": {
      "provenance": [],
      "authorship_tag": "ABX9TyPHHXQLLfoKEDGRGrwbpSqm",
      "include_colab_link": true
    },
    "kernelspec": {
      "name": "python3",
      "display_name": "Python 3"
    },
    "language_info": {
      "name": "python"
    }
  },
  "cells": [
    {
      "cell_type": "markdown",
      "metadata": {
        "id": "view-in-github",
        "colab_type": "text"
      },
      "source": [
        "<a href=\"https://colab.research.google.com/github/rahmakhairun1-jpg/KKA-X1-semester-1-rahmak/blob/main/1_Fungsi_print_Rahma_k_x_1.ipynb\" target=\"_parent\"><img src=\"https://colab.research.google.com/assets/colab-badge.svg\" alt=\"Open In Colab\"/></a>"
      ]
    },
    {
      "cell_type": "markdown",
      "source": [
        "nama:Rahma Khairun Nisa'\n",
        "\n",
        "kelas:X-1\n",
        "\n",
        "absen:29"
      ],
      "metadata": {
        "id": "N230DlkV2BYj"
      }
    },
    {
      "cell_type": "markdown",
      "source": [
        "#Menampilkan Teks Bebas"
      ],
      "metadata": {
        "id": "NKhRAyqm4C2t"
      }
    },
    {
      "cell_type": "code",
      "source": [
        "print(\"Rahma Khairun Nisa'\")"
      ],
      "metadata": {
        "colab": {
          "base_uri": "https://localhost:8080/"
        },
        "id": "SZY93O_t6em8",
        "outputId": "abe4248a-28b6-42e2-9336-76ffcfa52ac5"
      },
      "execution_count": null,
      "outputs": [
        {
          "output_type": "stream",
          "name": "stdout",
          "text": [
            "Rahma Khairun Nisa'\n"
          ]
        }
      ]
    },
    {
      "cell_type": "markdown",
      "source": [
        "#Menampilkan nilai variabel"
      ],
      "metadata": {
        "id": "3qriwinI5isw"
      }
    },
    {
      "cell_type": "code",
      "source": [
        "nama_idola=\"Mikazuki Arion\"\n",
        "\n",
        "print(nama_idola)"
      ],
      "metadata": {
        "colab": {
          "base_uri": "https://localhost:8080/"
        },
        "id": "zQ18wnd96q94",
        "outputId": "144f7d9b-d3e1-42b0-ff4c-6c8266b1ea14"
      },
      "execution_count": null,
      "outputs": [
        {
          "output_type": "stream",
          "name": "stdout",
          "text": [
            "Mikazuki Arion\n"
          ]
        }
      ]
    },
    {
      "cell_type": "code",
      "source": [
        "usia=15\n",
        "\n",
        "print(usia)"
      ],
      "metadata": {
        "colab": {
          "base_uri": "https://localhost:8080/"
        },
        "id": "2O77s-lW61aX",
        "outputId": "4e8f598d-ed17-441b-c02e-1baf367f1211"
      },
      "execution_count": null,
      "outputs": [
        {
          "output_type": "stream",
          "name": "stdout",
          "text": [
            "15\n"
          ]
        }
      ]
    },
    {
      "cell_type": "markdown",
      "source": [
        "#Latihan Soal"
      ],
      "metadata": {
        "id": "SJ57FP1-68X3"
      }
    },
    {
      "cell_type": "code",
      "source": [
        "nama_saudara=\"Hikmal Abdi\"\n",
        "\n",
        "print(nama_saudara)"
      ],
      "metadata": {
        "colab": {
          "base_uri": "https://localhost:8080/"
        },
        "id": "CMOLNuIZ5ue8",
        "outputId": "e53825cc-a5e0-4b52-e798-31536d1f685b"
      },
      "execution_count": null,
      "outputs": [
        {
          "output_type": "stream",
          "name": "stdout",
          "text": [
            "Hikmal Abdi\n"
          ]
        }
      ]
    },
    {
      "cell_type": "code",
      "source": [
        "jumlah_saudara=1\n",
        "\n",
        "print(jumlah_saudara)"
      ],
      "metadata": {
        "colab": {
          "base_uri": "https://localhost:8080/"
        },
        "id": "75e3DOqI6NG6",
        "outputId": "46b6c0e9-f1c9-492f-c83b-d2d2ce701b16"
      },
      "execution_count": null,
      "outputs": [
        {
          "output_type": "stream",
          "name": "stdout",
          "text": [
            "1\n"
          ]
        }
      ]
    },
    {
      "cell_type": "markdown",
      "source": [
        "#Menampilkan nilai variabel & string"
      ],
      "metadata": {
        "id": "1wr3uXfI3Z2H"
      }
    },
    {
      "cell_type": "code",
      "source": [
        "print(\"Nama idola lsaya adalah\",nama_idola,\". Usianya adalah\",usia,\"tahun.\")"
      ],
      "metadata": {
        "colab": {
          "base_uri": "https://localhost:8080/"
        },
        "id": "hanUrHP13jNb",
        "outputId": "7487a639-a991-4e98-bd46-04465498e84b"
      },
      "execution_count": null,
      "outputs": [
        {
          "output_type": "stream",
          "name": "stdout",
          "text": [
            "Nama idola saya adalah Mikazuki Arion . Usianya adalah 15 tahun.\n"
          ]
        }
      ]
    },
    {
      "cell_type": "code",
      "source": [
        "print(\"Nama idola saya adalah\" +nama_idola+\". Usianya adalah\" +str(usia)+\"tahun.\")"
      ],
      "metadata": {
        "colab": {
          "base_uri": "https://localhost:8080/"
        },
        "id": "PqQbpSaZ6f8J",
        "outputId": "84e9a382-34ee-4701-b933-f0036d5d3f06"
      },
      "execution_count": null,
      "outputs": [
        {
          "output_type": "stream",
          "name": "stdout",
          "text": [
            "Nama idola saya adalahMikazuki Arion. Usianya adalah15tahun.\n"
          ]
        }
      ]
    },
    {
      "cell_type": "code",
      "source": [
        "print(f\"Nama idola saya adalah {nama_idola}. Usianya adalah {usia}tahun.\")"
      ],
      "metadata": {
        "colab": {
          "base_uri": "https://localhost:8080/"
        },
        "id": "dg95Srqb7F44",
        "outputId": "632a2579-b88c-47ec-b145-af38013fc812"
      },
      "execution_count": null,
      "outputs": [
        {
          "output_type": "stream",
          "name": "stdout",
          "text": [
            "Nama idola saya adalah Mikazuki Arion. Usianya adalah 15tahun.\n"
          ]
        }
      ]
    },
    {
      "cell_type": "markdown",
      "source": [
        "#escape string"
      ],
      "metadata": {
        "id": "JLdh8wF69fs_"
      }
    },
    {
      "cell_type": "code",
      "source": [
        "print(\"Nama:Rahma Khairun Nisa'\")\n",
        "print(\"kelas:X.1\")\n",
        "print(\"No absen:29\")"
      ],
      "metadata": {
        "colab": {
          "base_uri": "https://localhost:8080/"
        },
        "id": "trBavUP89rVG",
        "outputId": "d3eb739f-ace4-4fe1-ddbf-a89132657990"
      },
      "execution_count": null,
      "outputs": [
        {
          "output_type": "stream",
          "name": "stdout",
          "text": [
            "Nama:Rahma Khairun Nisa'\n",
            "kelas:X.1\n",
            "No absen:29\n"
          ]
        }
      ]
    },
    {
      "cell_type": "code",
      "source": [
        "print(\"Nama:rahma Khairun Nisa'\\nkelas:X.1\\nNo.absen:29\")"
      ],
      "metadata": {
        "colab": {
          "base_uri": "https://localhost:8080/"
        },
        "id": "34VfC63t-fdy",
        "outputId": "ef4aaa30-035c-4400-bc90-6e268d1e0c33"
      },
      "execution_count": null,
      "outputs": [
        {
          "output_type": "stream",
          "name": "stdout",
          "text": [
            "Nama:rahma Khairun Nisa'\n",
            "kelas:X.1\n",
            "No.absen:29\n"
          ]
        }
      ]
    },
    {
      "cell_type": "code",
      "source": [
        "print(\"\"\"Nama\\t\\t:Rahma Khairun Nisa'\n",
        "kelas\\t\\t:X.1\n",
        "No.absen\\t:29\"\"\")"
      ],
      "metadata": {
        "colab": {
          "base_uri": "https://localhost:8080/"
        },
        "id": "88-bQSGn-0M0",
        "outputId": "97f61b89-90d8-465f-c6bd-3880df005fc4"
      },
      "execution_count": null,
      "outputs": [
        {
          "output_type": "stream",
          "name": "stdout",
          "text": [
            "Nama\t\t:Rahma Khairun Nisa'\n",
            "kelas\t\t:X.1 \n",
            "No.absen\t:29\n"
          ]
        }
      ]
    },
    {
      "cell_type": "code",
      "source": [
        "print(\"Halo Nama Saya Rahma Khairun nisa\")"
      ],
      "metadata": {
        "colab": {
          "base_uri": "https://localhost:8080/"
        },
        "id": "_MNOD1ixhsdh",
        "outputId": "82cc96c4-d1cb-4b87-b84a-eb1640425e3d"
      },
      "execution_count": null,
      "outputs": [
        {
          "output_type": "stream",
          "name": "stdout",
          "text": [
            "Halo Nama Saya Rahma Khairun nisa\n"
          ]
        }
      ]
    },
    {
      "cell_type": "code",
      "source": [
        "print(\"Halo Nama Saya Rahma Khairun Nisa'\")"
      ],
      "metadata": {
        "colab": {
          "base_uri": "https://localhost:8080/"
        },
        "id": "X9qDmmG2h4iL",
        "outputId": "1cba63c5-4bb5-4d1e-e02d-93f94c3b3a65"
      },
      "execution_count": null,
      "outputs": [
        {
          "output_type": "stream",
          "name": "stdout",
          "text": [
            "Halo Nama Saya Rahma Khairun Nisa'\n"
          ]
        }
      ]
    },
    {
      "cell_type": "code",
      "source": [
        "print(\"Bu Sinta berkata,\\\"tolong fokus ke tv sejenak.\\\"\")"
      ],
      "metadata": {
        "colab": {
          "base_uri": "https://localhost:8080/"
        },
        "id": "mkS1M3FNib5d",
        "outputId": "a6e106d6-6084-4edc-b0bf-244e3a322b76"
      },
      "execution_count": null,
      "outputs": [
        {
          "output_type": "stream",
          "name": "stdout",
          "text": [
            "Bu Sinta berkata,\"tolong fokus ke tv sejenak.\"\n"
          ]
        }
      ]
    },
    {
      "cell_type": "code",
      "source": [
        "print('bu Sinta berkata,\"tolong fokus ke tv sejenak.\"')"
      ],
      "metadata": {
        "colab": {
          "base_uri": "https://localhost:8080/"
        },
        "id": "SwhAkQ8oiqL8",
        "outputId": "d1339a08-92ea-4158-b724-55ea8d91c25a"
      },
      "execution_count": null,
      "outputs": [
        {
          "output_type": "stream",
          "name": "stdout",
          "text": [
            "bu Sinta berkata,\"tolong fokus ke tv sejenak.\"\n"
          ]
        }
      ]
    },
    {
      "cell_type": "code",
      "source": [
        "print(\"silahkan simpan file tugas KKA di folder local disk D:\\\\MAN Demak\\\\KKA\\\\Tugas\")"
      ],
      "metadata": {
        "colab": {
          "base_uri": "https://localhost:8080/"
        },
        "id": "h_bvpBdgi1Jn",
        "outputId": "5ef842d0-676f-4681-afab-b967c2dfd281"
      },
      "execution_count": null,
      "outputs": [
        {
          "output_type": "stream",
          "name": "stdout",
          "text": [
            "silahkan simpan file tugas KKA di folder local disk D:\\MAN Demak\\KKA\\Tugas\n"
          ]
        }
      ]
    },
    {
      "cell_type": "markdown",
      "source": [
        "#Latihan soal"
      ],
      "metadata": {
        "id": "_dnEUoGRiTc1"
      }
    },
    {
      "cell_type": "code",
      "source": [
        "print ('bu Sinta berkata,\"berikut adalah daftar piket harian kelas X.2 yang disimpan di file  D:\\\\Man Demak\\\\Jadwal piket\".\\n')\n",
        "\n",
        "print(\"\"\"senin\\t\\t selasa\\t\\t rabu\"\"\")\n",
        "print(\"\"\"jielo\\t\\t hasbi\\t\\t Naufal\"\"\")\n",
        "print(\"\"\"azam\\t\\t a'inun\\t\\t nurul\\t\\t\"\"\")"
      ],
      "metadata": {
        "colab": {
          "base_uri": "https://localhost:8080/"
        },
        "id": "b2j11S_SlRAx",
        "outputId": "e3623b6d-992b-448e-fcf4-6dee60e3ba46"
      },
      "execution_count": null,
      "outputs": [
        {
          "output_type": "stream",
          "name": "stdout",
          "text": [
            "bu Sinta berkata,\"berikut adalah daftar piket harian kelas X.2 yang disimpan di file  D:\\Man Demak\\Jadwal piket\".\n",
            "\n",
            "senin\t\t selasa\t\t rabu\n",
            "jielo\t\t hasbi\t\t Naufal\n",
            "azam\t\t a'inun\t\t nurul\t\t\n"
          ]
        }
      ]
    },
    {
      "cell_type": "markdown",
      "source": [
        "#parameter fungsi print"
      ],
      "metadata": {
        "id": "YefG8YPlpAtL"
      }
    },
    {
      "cell_type": "code",
      "source": [
        "nama_siswa_1= \"Dias\"\n",
        "nama_siswa_2= \"disa\"\n",
        "\n",
        "print(nama_siswa_1,end=\" \")\n",
        "print(nama_siswa_2)"
      ],
      "metadata": {
        "colab": {
          "base_uri": "https://localhost:8080/"
        },
        "id": "XEyA0HqfpHPQ",
        "outputId": "98f822d9-4899-450f-91a7-80c17b3aa3a6"
      },
      "execution_count": null,
      "outputs": [
        {
          "output_type": "stream",
          "name": "stdout",
          "text": [
            "Dias disa\n"
          ]
        }
      ]
    },
    {
      "cell_type": "code",
      "source": [
        "print(nama_siswa_1,nama_siswa_2)"
      ],
      "metadata": {
        "colab": {
          "base_uri": "https://localhost:8080/"
        },
        "id": "fwPLrrAbps8G",
        "outputId": "28e3e84a-e5a3-4923-80d7-5de42a740f8f"
      },
      "execution_count": null,
      "outputs": [
        {
          "output_type": "stream",
          "name": "stdout",
          "text": [
            "Dias disa\n"
          ]
        }
      ]
    },
    {
      "cell_type": "code",
      "source": [
        "print(nama_siswa_1,nama_siswa_2,sep=\"-\")"
      ],
      "metadata": {
        "colab": {
          "base_uri": "https://localhost:8080/"
        },
        "id": "9iebLEHtp2K2",
        "outputId": "0e1a43be-f372-4c6f-e53e-f8d5f8df882f"
      },
      "execution_count": null,
      "outputs": [
        {
          "output_type": "stream",
          "name": "stdout",
          "text": [
            "Dias-disa\n"
          ]
        }
      ]
    },
    {
      "cell_type": "markdown",
      "source": [
        "#latihan Soal"
      ],
      "metadata": {
        "id": "MtQYvgocqDTZ"
      }
    },
    {
      "cell_type": "code",
      "source": [
        "nama_siswa_3= \"Kinan\"\n",
        "nama_siswa_4= \"Azka\"\n",
        "nama_siswa_5= \"Naufal\"\n",
        "nama_siswa_6= \"Ridho\"\n",
        "\n",
        "print(nama_siswa_6,nama_siswa_3,nama_siswa_5,nama_siswa_4,nama_siswa_4,sep=\"/\")"
      ],
      "metadata": {
        "colab": {
          "base_uri": "https://localhost:8080/"
        },
        "id": "WaUOjTUNqGIt",
        "outputId": "49640471-ff00-4b93-c27e-d6fab6cdbb5d"
      },
      "execution_count": null,
      "outputs": [
        {
          "output_type": "stream",
          "name": "stdout",
          "text": [
            "Ridho/Kinan/Naufal/Azka/Azka\n"
          ]
        }
      ]
    },
    {
      "cell_type": "code",
      "source": [
        "print(nama_siswa_4,end=\"*\")\n",
        "print(nama_siswa_4,end=\"*\")\n",
        "print(nama_siswa_5,end=\"*\")\n",
        "print(nama_siswa_3,end=\"*\")\n",
        "print(nama_siswa_6,end=\"*\")"
      ],
      "metadata": {
        "colab": {
          "base_uri": "https://localhost:8080/"
        },
        "id": "ILVAPISssGZM",
        "outputId": "67fc0da9-b290-487f-bf10-24e42751b120"
      },
      "execution_count": null,
      "outputs": [
        {
          "output_type": "stream",
          "name": "stdout",
          "text": [
            "Azka*Azka*Naufal*Kinan*Ridho*"
          ]
        }
      ]
    }
  ]
}